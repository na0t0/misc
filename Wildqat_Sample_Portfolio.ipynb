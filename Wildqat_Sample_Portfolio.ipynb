{
 "cells": [
  {
   "cell_type": "code",
   "execution_count": 2,
   "metadata": {},
   "outputs": [],
   "source": [
    "import wildqat as wq\n",
    "import numpy as np\n",
    "a = wq.opt()"
   ]
  },
  {
   "cell_type": "code",
   "execution_count": 3,
   "metadata": {},
   "outputs": [
    {
     "name": "stdout",
     "output_type": "stream",
     "text": [
      "[[-0.026  0.     0.     0.     0.     0.   ]\n",
      " [ 0.    -0.031  0.     0.     0.     0.   ]\n",
      " [ 0.     0.    -0.007  0.     0.     0.   ]\n",
      " [ 0.     0.     0.    -0.022  0.     0.   ]\n",
      " [ 0.     0.     0.     0.    -0.01   0.   ]\n",
      " [ 0.     0.     0.     0.     0.    -0.055]]\n"
     ]
    }
   ],
   "source": [
    "ret = np.diag([-0.026,-0.031,-0.007,-0.022,-0.010,-0.055])\n",
    "print(ret)"
   ]
  },
  {
   "cell_type": "code",
   "execution_count": 4,
   "metadata": {},
   "outputs": [
    {
     "name": "stdout",
     "output_type": "stream",
     "text": [
      "[[0, 0.0015, 0.0012, 0.0018, 0.0022, 0.0012], [0, 0, 0.0017, 0.0022, 0.0005, 0.0019], [0, 0, 0, 0.004, 0.0032, 0.0024], [0, 0, 0, 0, 0.0012, 0.0076], [0, 0, 0, 0, 0, 0.0021], [0, 0, 0, 0, 0, 0]]\n"
     ]
    }
   ],
   "source": [
    "ris = [[0,0.0015,0.0012,0.0018,0.0022,0.0012],[0,0,0.0017,0.0022,0.0005,0.0019],[0,0,0,0.0040,0.0032,0.0024],[0,0,0,0,0.0012,0.0076],[0,0,0,0,0,0.0021],[0,0,0,0,0,0]]\n",
    "\n",
    "print(ris)"
   ]
  },
  {
   "cell_type": "code",
   "execution_count": 5,
   "metadata": {},
   "outputs": [
    {
     "name": "stdout",
     "output_type": "stream",
     "text": [
      "[[-0.026    0.00075  0.0006   0.0009   0.0011   0.0006 ]\n",
      " [ 0.      -0.031    0.00085  0.0011   0.00025  0.00095]\n",
      " [ 0.       0.      -0.007    0.002    0.0016   0.0012 ]\n",
      " [ 0.       0.       0.      -0.022    0.0006   0.0038 ]\n",
      " [ 0.       0.       0.       0.      -0.01     0.00105]\n",
      " [ 0.       0.       0.       0.       0.      -0.055  ]]\n"
     ]
    }
   ],
   "source": [
    "a.qubo = ret + np.asarray(ris)*0.5\n",
    "print(a.qubo)"
   ]
  },
  {
   "cell_type": "code",
   "execution_count": 6,
   "metadata": {},
   "outputs": [
    {
     "name": "stdout",
     "output_type": "stream",
     "text": [
      "[[-3.026    2.00075  2.0006   2.0009   2.0011   2.0006 ]\n",
      " [ 0.      -3.031    2.00085  2.0011   2.00025  2.00095]\n",
      " [ 0.       0.      -3.007    2.002    2.0016   2.0012 ]\n",
      " [ 0.       0.       0.      -3.022    2.0006   2.0038 ]\n",
      " [ 0.       0.       0.       0.      -3.01     2.00105]\n",
      " [ 0.       0.       0.       0.       0.      -3.055  ]]\n"
     ]
    }
   ],
   "source": [
    "a.qubo += wq.sel(6,2)\n",
    "print(a.qubo)"
   ]
  },
  {
   "cell_type": "code",
   "execution_count": 7,
   "metadata": {},
   "outputs": [
    {
     "data": {
      "text/plain": [
       "[0, 0, 0, 1, 0, 1]"
      ]
     },
     "execution_count": 7,
     "metadata": {},
     "output_type": "execute_result"
    }
   ],
   "source": [
    "a.sa()"
   ]
  },
  {
   "cell_type": "code",
   "execution_count": 8,
   "metadata": {},
   "outputs": [
    {
     "data": {
      "text/plain": [
       "<Figure size 640x480 with 1 Axes>"
      ]
     },
     "metadata": {},
     "output_type": "display_data"
    }
   ],
   "source": [
    "a.plot()"
   ]
  },
  {
   "cell_type": "code",
   "execution_count": null,
   "metadata": {},
   "outputs": [],
   "source": []
  }
 ],
 "metadata": {
  "kernelspec": {
   "display_name": "Python 3",
   "language": "python",
   "name": "python3"
  },
  "language_info": {
   "codemirror_mode": {
    "name": "ipython",
    "version": 3
   },
   "file_extension": ".py",
   "mimetype": "text/x-python",
   "name": "python",
   "nbconvert_exporter": "python",
   "pygments_lexer": "ipython3",
   "version": "3.6.5"
  }
 },
 "nbformat": 4,
 "nbformat_minor": 2
}
